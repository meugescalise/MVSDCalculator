{
 "cells": [
  {
   "cell_type": "code",
   "execution_count": 1,
   "id": "9a81cb1a-d13d-404c-901a-ce467f06faa0",
   "metadata": {},
   "outputs": [],
   "source": [
    "import numpy as np"
   ]
  },
  {
   "cell_type": "code",
   "execution_count": 4,
   "id": "1b1f4821-c4e6-480b-a66a-8a83760fe171",
   "metadata": {},
   "outputs": [
    {
     "name": "stdout",
     "output_type": "stream",
     "text": [
      "[0, 1, 2, 3, 4, 5, 6, 7, 8]\n",
      "[[0 1 2]\n",
      " [3 4 5]\n",
      " [6 7 8]]\n",
      "[3.0, 4.0, 5.0] [1.0, 4.0, 7.0] 4.0\n",
      "{'mean': [[3.0, 4.0, 5.0], [1.0, 4.0, 7.0], 4.0], 'variance': [[6.0, 6.0, 6.0], [0.6666666666666666, 0.6666666666666666, 0.6666666666666666], 6.666666666666667], 'standar deviation': [[2.449489742783178, 2.449489742783178, 2.449489742783178], [0.816496580927726, 0.816496580927726, 0.816496580927726], 2.581988897471611], 'max': [[6, 7, 8], [2, 5, 8], 8], 'min': [[0, 1, 2], [0, 3, 6], 0], 'sum': [[9, 12, 15], [3, 12, 21], 36]}\n"
     ]
    }
   ],
   "source": [
    "def calculate(input):\n",
    "    if len(input) !=9:\n",
    "        raise ValueError(\"List must contain nine numbers\")\n",
    "    print (input)\n",
    "    \n",
    "    a=np.array(input).reshape(3,3)\n",
    "    print(a)\n",
    "    print(a.mean(0).tolist(), a.mean(1).tolist(), a.mean())\n",
    "    \n",
    "    cal = dict()\n",
    "    cal['mean'] = [a.mean(0).tolist(), a.mean(1).tolist(), a.mean()]\n",
    "    cal['variance'] = [a.var(0).tolist(), a.var(1).tolist(), a.var()]\n",
    "    cal['standar deviation'] = [a.std(0).tolist(), a.std(1).tolist(), a.std()]\n",
    "    cal['max'] = [a.max(0).tolist(), a.max(1).tolist(), a.max()]\n",
    "    cal['min'] = [a.min(0).tolist(), a.min(1).tolist(), a.min()]\n",
    "    cal['sum'] = [a.sum(0).tolist(), a.sum(1).tolist(), a.sum()]\n",
    "    return cal\n",
    "\n",
    "    \n",
    "print(calculate([0,1,2,3,4,5,6,7,8,]))"
   ]
  }
 ],
 "metadata": {
  "kernelspec": {
   "display_name": "Python 3 (ipykernel)",
   "language": "python",
   "name": "python3"
  },
  "language_info": {
   "codemirror_mode": {
    "name": "ipython",
    "version": 3
   },
   "file_extension": ".py",
   "mimetype": "text/x-python",
   "name": "python",
   "nbconvert_exporter": "python",
   "pygments_lexer": "ipython3",
   "version": "3.9.13"
  }
 },
 "nbformat": 4,
 "nbformat_minor": 5
}
